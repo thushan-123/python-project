{
 "cells": [
  {
   "cell_type": "code",
   "execution_count": 30,
   "id": "6eec2253-764d-4560-9b83-8cfd9be7271d",
   "metadata": {},
   "outputs": [],
   "source": [
    "import numpy as np\n",
    "import pandas as pd\n",
    "import re\n",
    "import string\n",
    "import pickle"
   ]
  },
  {
   "cell_type": "code",
   "execution_count": 31,
   "id": "e27c977f-ec2e-4b0b-aab4-a622233e06ca",
   "metadata": {},
   "outputs": [],
   "source": [
    "def remove_punct(text):\n",
    "    for punct in string.punctuation:\n",
    "        text=text.replace(punct,'')\n",
    "    return text\n",
    "\n"
   ]
  },
  {
   "cell_type": "code",
   "execution_count": 32,
   "id": "c1e1b442-e663-490b-95ef-a9c375c7b5e3",
   "metadata": {},
   "outputs": [],
   "source": [
    "with open ('../static/model/model.pickle','rb') as f:\n",
    "    model = pickle.load(f)"
   ]
  },
  {
   "cell_type": "code",
   "execution_count": 33,
   "id": "4294a16c-7749-462f-9ab5-f2ede9f3a739",
   "metadata": {},
   "outputs": [],
   "source": [
    "vocab = pd.read_csv('../static/model/vocabulary.txt',header=None)\n",
    "tokens = vocab[0].tolist()"
   ]
  },
  {
   "cell_type": "code",
   "execution_count": 34,
   "id": "7f452c5d-3da5-4c8c-8841-dbbe9831de1c",
   "metadata": {},
   "outputs": [],
   "source": [
    "with open('../static/model/corpora/stopwords/english','r') as file:\n",
    "    sw=file.read().splitlines()"
   ]
  },
  {
   "cell_type": "code",
   "execution_count": 35,
   "id": "5a47bd3e-2778-4e86-a6ec-265b00ee502a",
   "metadata": {},
   "outputs": [],
   "source": [
    "from nltk.stem import PorterStemmer\n",
    "ps = PorterStemmer()"
   ]
  },
  {
   "cell_type": "code",
   "execution_count": 36,
   "id": "06aef9f6-7aa0-4533-b1cd-cb143af6bc95",
   "metadata": {},
   "outputs": [],
   "source": [
    "\n",
    "def preprocessing(text):\n",
    "    data = pd.DataFrame([text],columns=[\"tweet\"])\n",
    "    data[\"tweet\"] = data[\"tweet\"].apply(lambda x: \" \".join(x.lower() for x in x.split()))\n",
    "    data[\"tweet\"] = data[\"tweet\"].apply(lambda x :\" \".join(re.sub(r'^https?:\\/\\/.*[\\r\\n]*','',x,flags=re.MULTILINE) for x in x.split()))\n",
    "    data[\"tweet\"] = data[\"tweet\"].apply(remove_punct)\n",
    "    data[\"tweet\"] =data[\"tweet\"].str.replace(r'\\d+','',regex=True)\n",
    "    data[\"tweet\"] = data[\"tweet\"].apply(lambda x : \" \" .join(x for x in x.split() if x not in sw))\n",
    "    data[\"tweet\"] = data[\"tweet\"].apply(lambda x : \" \" .join(ps.stem(x) for x in x.split()))\n",
    "    return data[\"tweet\"]"
   ]
  },
  {
   "cell_type": "code",
   "execution_count": 37,
   "id": "68205a6c-3516-4f64-8cb8-4194289001ec",
   "metadata": {},
   "outputs": [],
   "source": [
    "def vectorizer(ds,vocabluary):\n",
    "    vectorized_list =[]\n",
    "    for sentence in ds:\n",
    "        sentence_lst=np.zeros(len(vocabluary))\n",
    "\n",
    "        for i in range(len(vocabluary)):\n",
    "            if vocabluary[i] in sentence.split():\n",
    "                sentence_lst[i] = 1\n",
    "\n",
    "        vectorized_list.append(sentence_lst)\n",
    "    vectorized_list_new = np.asarray(vectorized_list, dtype=np.float32)\n",
    "    return vectorized_list_new"
   ]
  },
  {
   "cell_type": "code",
   "execution_count": 42,
   "id": "0110dd13-45ad-4829-8455-cc260fb960fd",
   "metadata": {},
   "outputs": [],
   "source": [
    "def get_predection(vectorized_txt):\n",
    "    predection = model.predict(vectorized_txt)\n",
    "    if predection == 1 :\n",
    "        return 'negative'\n",
    "    else :\n",
    "        return 'positive'"
   ]
  },
  {
   "cell_type": "code",
   "execution_count": 43,
   "id": "db0f99c8-3188-4b39-8898-84edaaa33d13",
   "metadata": {},
   "outputs": [
    {
     "data": {
      "text/plain": [
       "'positive'"
      ]
     },
     "execution_count": 43,
     "metadata": {},
     "output_type": "execute_result"
    }
   ],
   "source": [
    "txt = 'good .grade awsome'\n",
    "preprocessed_txt = preprocessing(txt)\n",
    "vectorized_txt = vectorizer(preprocessed_txt,tokens)\n",
    "prediction = get_predection(vectorized_txt)\n",
    "prediction"
   ]
  },
  {
   "cell_type": "code",
   "execution_count": null,
   "id": "b70da5c5-318b-42e3-8c87-80026bfacd58",
   "metadata": {},
   "outputs": [],
   "source": []
  }
 ],
 "metadata": {
  "kernelspec": {
   "display_name": "Python 3 (ipykernel)",
   "language": "python",
   "name": "python3"
  },
  "language_info": {
   "codemirror_mode": {
    "name": "ipython",
    "version": 3
   },
   "file_extension": ".py",
   "mimetype": "text/x-python",
   "name": "python",
   "nbconvert_exporter": "python",
   "pygments_lexer": "ipython3",
   "version": "3.12.2"
  }
 },
 "nbformat": 4,
 "nbformat_minor": 5
}
